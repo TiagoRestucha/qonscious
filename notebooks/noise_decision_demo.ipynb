{
 "cells": [
  {
   "cell_type": "markdown",
   "id": "1ee1caae",
   "metadata": {},
   "source": [
    "# Noise-Based Decision Test (FoM)\n",
    "This notebook builds a **noise Figure of Merit (FoM)** from your backend adapter and then makes a **decision** (pass/fail)\n",
    "based on thresholds that you can tune. It also plots the component fidelities with matplotlib.\n",
    "\n",
    "**Idea:** If the device is “quiet enough” (good FoM), proceed with heavier experiments; otherwise, skip or reconfigure.\n"
   ]
  },
  {
   "cell_type": "code",
   "execution_count": 52,
   "id": "9563645f",
   "metadata": {},
   "outputs": [],
   "source": [
    "from qiskit import QuantumCircuit\n",
    "\n",
    "\n",
    "# A helper function to create our phi_plus circuit.\n",
    "def build_phi_plus_circuit() :\n",
    "    phi_plus = QuantumCircuit(2)\n",
    "    phi_plus.h(0)\n",
    "    phi_plus.cx(0, 1)\n",
    "    phi_plus.measure_all()\n",
    "    return phi_plus"
   ]
  },
  {
   "cell_type": "code",
   "execution_count": 53,
   "id": "a990a73e",
   "metadata": {},
   "outputs": [],
   "source": [
    "\n",
    "import json\n",
    "import math\n",
    "from typing import Any, Dict\n",
    "import matplotlib.pyplot as plt\n",
    "\n",
    "def on_pass(backend_adapter, figureOfMeritResults):\n",
    "    print(\"\\n--- Checks PASSED ---\")\n",
    "    props = figureOfMeritResults[0].get('properties', {})\n",
    "    print(\"\\n--- Calculated Properties ---\")\n",
    "    print(json.dumps(props, indent=2))\n",
    "    print(f\"\\nNumber of Qubits: {getattr(backend_adapter, 'n_qubits', 'N/A')}\")\n",
    "    run_result = backend_adapter.run(build_phi_plus_circuit(), shots=2048)\n",
    "    return run_result\n",
    "\n",
    "def on_fail(backend_adapter, figureOfMeritResults):\n",
    "    print(\"\\n--- Checks FAILED ---\")\n",
    "    props = figureOfMeritResults[0].get('properties', {})\n",
    "    print(\"\\n--- Calculated Properties ---\")\n",
    "    print(json.dumps(props, indent=2))\n",
    "    print(f\"\\nNumber of Qubits: {getattr(backend_adapter, 'n_qubits', 'N/A')}\")\n",
    "    return None\n"
   ]
  },
  {
   "cell_type": "code",
   "execution_count": 54,
   "id": "45a1f7c1",
   "metadata": {},
   "outputs": [
    {
     "name": "stderr",
     "output_type": "stream",
     "text": [
      "WARNING: quantum error already exists for instruction \"id\" on qubits (0,) , appending additional error.\n",
      "WARNING: quantum error already exists for instruction \"id\" on qubits (1,) , appending additional error.\n",
      "WARNING: quantum error already exists for instruction \"id\" on qubits (2,) , appending additional error.\n",
      "WARNING: quantum error already exists for instruction \"id\" on qubits (3,) , appending additional error.\n",
      "WARNING: quantum error already exists for instruction \"id\" on qubits (4,) , appending additional error.\n"
     ]
    },
    {
     "name": "stdout",
     "output_type": "stream",
     "text": [
      "Backend: CustomNoisyBackendAdapter\n",
      "n_qubits: 5\n",
      "============================================================\n",
      "Custom Noisy Backend Adapter - Noise Summary\n",
      "============================================================\n",
      "Number of qubits: 5\n",
      "\n",
      "Depolarizing Errors:\n",
      "  Single-qubit gates: 0.0010\n",
      "  Two-qubit gates: 0.0100\n",
      "\n",
      "Thermal Relaxation:\n",
      "  Average T1: 50.00 µs\n",
      "  Average T2: 70.00 µs\n",
      "  Thermal population: 0.0100\n",
      "\n",
      "Readout Errors:\n",
      "  Readout error probability: 0.0200\n",
      "\n",
      "Gate Times:\n",
      "  Single-qubit gates: 50 ns\n",
      "  Two-qubit gates: 300 ns\n",
      "============================================================\n"
     ]
    }
   ],
   "source": [
    "from qonscious.adapters import CustomNoisyBackendAdapter\n",
    "\n",
    "adapter = CustomNoisyBackendAdapter(n_qubits=5)\n",
    "print(\"Backend:\", adapter.__class__.__name__)\n",
    "print(\"n_qubits:\", adapter.n_qubits)\n",
    "\n",
    "# Optional: show a quick summary (pure prints, no logging)\n",
    "adapter.print_noise_summary()\n"
   ]
  },
  {
   "cell_type": "code",
   "execution_count": 55,
   "id": "a2f7c004",
   "metadata": {},
   "outputs": [],
   "source": [
    "from qonscious.checks import MeritComplianceCheck\n",
    "from qonscious.foms import BackendNoiseFoM\n",
    "\n",
    "MIN_OVERALL_NOISE = 0.985\n",
    "MIN_TWO_QUBIT_FIDELITY = 0.985\n",
    "MIN_READOUT_FIDELITY = 0.970\n",
    "\n",
    "def requires_noise_quality():\n",
    "    \"\"\"Return a predicate that validates the backend against the configured thresholds.\"\"\"\n",
    "    def predicate(result):\n",
    "        props = result[\"properties\"]\n",
    "        return (\n",
    "            props[\"overall_noise_score\"] >= MIN_OVERALL_NOISE\n",
    "            and props[\"two_qubit_gate_fidelity\"] >= MIN_TWO_QUBIT_FIDELITY\n",
    "            and props[\"readout_fidelity\"] >= MIN_READOUT_FIDELITY\n",
    "        )\n",
    "    return predicate\n",
    "check = MeritComplianceCheck(\n",
    "    figure_of_merit=BackendNoiseFoM(),\n",
    "    decision_function=requires_noise_quality()\n",
    ")"
   ]
  },
  {
   "cell_type": "code",
   "execution_count": 56,
   "id": "b37fda56",
   "metadata": {},
   "outputs": [
    {
     "name": "stdout",
     "output_type": "stream",
     "text": [
      "\n",
      "--- Checks PASSED ---\n",
      "\n",
      "--- Calculated Properties ---\n",
      "{\n",
      "  \"backend_qubits\": 5,\n",
      "  \"backend_name\": \"CustomNoisyBackendAdapter\",\n",
      "  \"T1\": 5e-05,\n",
      "  \"T2\": 7e-05,\n",
      "  \"overall_noise_score\": 0.991597512615847,\n",
      "  \"single_qubit_gate_fidelity\": 0.999,\n",
      "  \"two_qubit_gate_fidelity\": 0.99,\n",
      "  \"readout_fidelity\": 0.98,\n",
      "  \"coherence_factor\": 0.9975047128046468,\n",
      "  \"single_qubit_gate_duration_seconds\": 5.0000000000000004e-08,\n",
      "  \"two_qubit_gate_duration_seconds\": 3.0000000000000004e-07,\n",
      "  \"thermal_population_fraction\": 0.01\n",
      "}\n",
      "\n",
      "Number of Qubits: 5\n"
     ]
    }
   ],
   "source": [
    "from qonscious.actions import QonsciousCallable\n",
    "from qonscious import run_conditionally\n",
    "\n",
    "qonscious_result = run_conditionally(\n",
    "    backend_adapter=adapter,\n",
    "    checks=[check],\n",
    "    on_pass=QonsciousCallable(on_pass),\n",
    "    on_fail=QonsciousCallable(on_fail),\n",
    ")"
   ]
  },
  {
   "cell_type": "code",
   "execution_count": 57,
   "id": "b10aabda",
   "metadata": {},
   "outputs": [
    {
     "data": {
      "image/png": "[encoded data removed]",
      "text/plain": [
       "<Figure size 640x480 with 1 Axes>"
      ]
     },
     "metadata": {},
     "output_type": "display_data"
    }
   ],
   "source": [
    "import matplotlib.pyplot as plt\n",
    "\n",
    "# Get the counts of each possibly observed result 00, 01, 10, 11\n",
    "counts = qonscious_result['experiment_result']['counts'] # type: ignore\n",
    "\n",
    "# Choose a fixed label order for 2-qubit outcomes\n",
    "labels = ['00', '01', '10', '11']\n",
    "values = [counts.get(k, 0) for k in labels]\n",
    "\n",
    "N = sum(values)\n",
    "F_Z = (counts.get('00', 0) + counts.get('11', 0)) / N if N else float('nan')\n",
    "title = f\"Z-basis outcomes (F_Z = {F_Z:.3f})\"\n",
    "\n",
    "fig, ax = plt.subplots()\n",
    "bars = ax.bar(labels, values)\n",
    "ax.set_title(title)\n",
    "ax.set_xlabel(\"Outcome\")\n",
    "ax.set_ylabel(\"Counts\")\n",
    "ax.set_ylim(bottom=0)\n",
    "ax.grid(True, axis='y', linestyle=':', linewidth=0.5)\n",
    "\n",
    "# Add labels on top of each bar\n",
    "for bar, value in zip(bars, values):\n",
    "    ax.text(\n",
    "        bar.get_x() + bar.get_width() / 2,\n",
    "        bar.get_height(),\n",
    "        str(value),\n",
    "        ha='center', va='bottom'\n",
    "    )\n",
    "plt.show()\n"
   ]
  }
 ],
 "metadata": {
  "kernelspec": {
   "display_name": ".venv",
   "language": "python",
   "name": "python3"
  },
  "language_info": {
   "codemirror_mode": {
    "name": "ipython",
    "version": 3
   },
   "file_extension": ".py",
   "mimetype": "text/x-python",
   "name": "python",
   "nbconvert_exporter": "python",
   "pygments_lexer": "ipython3",
   "version": "3.11.9"
  }
 },
 "nbformat": 4,
 "nbformat_minor": 5
}
