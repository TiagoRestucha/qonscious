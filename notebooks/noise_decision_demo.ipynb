{
 "cells": [
  {
   "cell_type": "markdown",
   "id": "1ee1caae",
   "metadata": {},
   "source": [
    "# Noise Qualification Workflow\n",
    "\n",
    "This notebook evaluates a backend adapter with Qonscious by computing a noise figure of merit and deciding whether the backend is suitable for follow-on experiments. It also visualizes key fidelity metrics to support the decision.\n",
    "\n",
    "**Objective:** Proceed with resource-intensive experiments only when the backend satisfies the configured noise-quality thresholds; otherwise, pause and revisit the setup.\n",
    "\n",
    "### Workflow Summary\n",
    "1. Prepare a Bell-state reference circuit that exercises the target backend.\n",
    "2. Define pass/fail callbacks that report figure-of-merit metrics and conditionally run an experiment.\n",
    "3. Instantiate the noise-aware backend adapter and review its configuration.\n",
    "4. Configure the compliance thresholds for the figure of merit.\n",
    "5. Execute the Qonscious conditional workflow with the adapter, checks, and callbacks.\n",
    "6. Visualize the measurement distribution when the validation experiment runs.\n"
   ]
  },
  {
   "cell_type": "markdown",
   "metadata": {},
   "source": [
    "## Step 1 – Prepare the reference circuit\n",
    "\n",
    "Construct the `phi+` Bell-state circuit that acts as a lightweight validation workload when the backend meets the noise criteria.\n"
   ]
  },
  {
   "cell_type": "code",
   "execution_count": 1,
   "id": "9563645f",
   "metadata": {},
   "outputs": [],
   "source": [
    "from qiskit import QuantumCircuit\n",
    "\n",
    "\n",
    "def build_phi_plus_circuit():\n",
    "    \"\"\"Create a Bell-state circuit used as a lightweight validation workload.\"\"\"\n",
    "    phi_plus = QuantumCircuit(2)\n",
    "    phi_plus.h(0)\n",
    "    phi_plus.cx(0, 1)\n",
    "    phi_plus.measure_all()\n",
    "    return phi_plus\n"
   ]
  },
  {
   "cell_type": "markdown",
   "id": "477e9476",
   "metadata": {},
   "source": [
    "## Step 2 – Define pass/fail callbacks\n",
    "\n",
    "Implement callbacks that log the computed figure-of-merit metrics, execute the reference circuit on success, and skip execution when the backend falls short.\n"
   ]
  },
  {
   "cell_type": "code",
   "execution_count": 2,
   "id": "a990a73e",
   "metadata": {},
   "outputs": [],
   "source": [
    "METRIC_ORDER = [\n",
    "    (\"overall_noise_score\", \"Overall noise score\", 3),\n",
    "    (\"single_qubit_gate_fidelity\", \"Single-qubit gate fidelity\", 3),\n",
    "    (\"two_qubit_gate_fidelity\", \"Two-qubit gate fidelity\", 3),\n",
    "    (\"readout_fidelity\", \"Readout fidelity\", 3),\n",
    "    (\"coherence_factor\", \"Coherence factor\", 3),\n",
    "    (\"relaxation_time_t1_seconds\", \"T1 relaxation time (s)\", 6),\n",
    "    (\"relaxation_time_t2_seconds\", \"T2 dephasing time (s)\", 6),\n",
    "    (\"single_qubit_gate_duration_seconds\", \"Single-qubit gate duration (s)\", 9),\n",
    "    (\"two_qubit_gate_duration_seconds\", \"Two-qubit gate duration (s)\", 9),\n",
    "    (\"thermal_population_fraction\", \"Thermal population fraction\", 4),\n",
    "    (\"backend_qubits\", \"Backend qubits\", None),\n",
    "    (\"backend_name\", \"Backend name\", None),\n",
    "]\n",
    "\n",
    "\n",
    "def _metric_summary(properties):\n",
    "    summary: list[str] = []\n",
    "    for key, label, decimals in METRIC_ORDER:\n",
    "        if key not in properties:\n",
    "            continue\n",
    "        value = properties[key]\n",
    "        if isinstance(value, (int, float)) and decimals is not None:\n",
    "            formatted = format(value, f\".{decimals}f\")\n",
    "        else:\n",
    "            formatted = str(value)\n",
    "        summary.append(f\"  - {label}: {formatted}\")\n",
    "    return summary\n",
    "\n",
    "\n",
    "def on_pass(backend_adapter, figure_of_merit_results):\n",
    "    properties = {}\n",
    "    if figure_of_merit_results:\n",
    "        primary = figure_of_merit_results[0] or {}\n",
    "        properties = primary.get(\"properties\", {}) or {}\n",
    "\n",
    "    print(\"Noise compliance check passed.\")\n",
    "\n",
    "    metrics = _metric_summary(properties)\n",
    "    if metrics:\n",
    "        print(\"Noise metrics:\")\n",
    "        for line in metrics:\n",
    "            print(line)\n",
    "    else:\n",
    "        print(\"Noise metrics: not reported by the figure of merit.\")\n",
    "\n",
    "    print(\"Running the Bell-state reference circuit for verification.\")\n",
    "    return backend_adapter.run(build_phi_plus_circuit(), shots=2048)\n",
    "\n",
    "\n",
    "def on_fail(backend_adapter, figure_of_merit_results):\n",
    "    properties = {}\n",
    "    if figure_of_merit_results:\n",
    "        primary = figure_of_merit_results[0] or {}\n",
    "        properties = primary.get(\"properties\", {}) or {}\n",
    "\n",
    "    print(\"Noise compliance check failed.\")\n",
    "\n",
    "    metrics = _metric_summary(properties)\n",
    "    if metrics:\n",
    "        print(\"Noise metrics:\")\n",
    "        for line in metrics:\n",
    "            print(line)\n",
    "    else:\n",
    "        print(\"Noise metrics: not reported by the figure of merit.\")\n",
    "\n",
    "    print(\"Skipping the reference circuit until noise improves.\")\n",
    "    return None\n"
   ]
  },
  {
   "cell_type": "markdown",
   "id": "4b0a589b",
   "metadata": {},
   "source": [
    "## Step 3 – Instantiate the backend adapter\n",
    "\n",
    "Create the custom noisy backend adapter and display its noise summary so the configured error model is explicit.\n",
    "\n",
    "> Expected warnings when running this cell originate from Qiskit reporting that a quantum error already exists for instruction `id` on qubits 0 through 4. The adapter layers an additional noise map onto the same operation, so the warnings are informational and can be ignored.\n",
    "> ```\n",
    "> WARNING: quantum error already exists for instruction \"id\" on qubits (0,) , appending additional error.\n",
    "> WARNING: quantum error already exists for instruction \"id\" on qubits (1,) , appending additional error.\n",
    "> WARNING: quantum error already exists for instruction \"id\" on qubits (2,) , appending additional error.\n",
    "> WARNING: quantum error already exists for instruction \"id\" on qubits (3,) , appending additional error.\n",
    "> WARNING: quantum error already exists for instruction \"id\" on qubits (4,) , appending additional error.\n",
    "> ```\n"
   ]
  },
  {
   "cell_type": "code",
   "execution_count": 3,
   "id": "45a1f7c1",
   "metadata": {},
   "outputs": [
    {
     "name": "stderr",
     "output_type": "stream",
     "text": [
      "WARNING: quantum error already exists for instruction \"id\" on qubits (0,) , appending additional error.\n",
      "WARNING: quantum error already exists for instruction \"id\" on qubits (1,) , appending additional error.\n",
      "WARNING: quantum error already exists for instruction \"id\" on qubits (2,) , appending additional error.\n",
      "WARNING: quantum error already exists for instruction \"id\" on qubits (3,) , appending additional error.\n",
      "WARNING: quantum error already exists for instruction \"id\" on qubits (4,) , appending additional error.\n"
     ]
    },
    {
     "name": "stdout",
     "output_type": "stream",
     "text": [
      "Backend: CustomNoisyBackendAdapter\n",
      "n_qubits: 5\n",
      "============================================================\n",
      "Custom Noisy Backend Adapter - Noise Summary\n",
      "============================================================\n",
      "Number of qubits: 5\n",
      "\n",
      "Depolarizing Errors:\n",
      "  Single-qubit gates: 0.0010\n",
      "  Two-qubit gates: 0.0100\n",
      "\n",
      "Thermal Relaxation:\n",
      "  Average T1: 50.00 µs\n",
      "  Average T2: 70.00 µs\n",
      "  Thermal population: 0.0100\n",
      "\n",
      "Readout Errors:\n",
      "  Readout error probability: 0.0200\n",
      "\n",
      "Gate Times:\n",
      "  Single-qubit gates: 50 ns\n",
      "  Two-qubit gates: 300 ns\n",
      "============================================================\n"
     ]
    }
   ],
   "source": [
    "from qonscious.adapters import CustomNoisyBackendAdapter\n",
    "\n",
    "adapter = CustomNoisyBackendAdapter(n_qubits=5)\n",
    "print(\"Backend:\", adapter.__class__.__name__)\n",
    "print(\"n_qubits:\", adapter.n_qubits)\n",
    "\n",
    "# Display a concise noise summary for reference.\n",
    "adapter.print_noise_summary()\n"
   ]
  },
  {
   "cell_type": "markdown",
   "id": "80ed3c3b",
   "metadata": {},
   "source": [
    "## Step 4 – Configure noise thresholds\n",
    "\n",
    "Set the minimum acceptable figure-of-merit metrics and wrap them in a decision predicate used by the compliance check.\n"
   ]
  },
  {
   "cell_type": "code",
   "execution_count": 4,
   "id": "a2f7c004",
   "metadata": {},
   "outputs": [],
   "source": [
    "from qonscious.checks import MeritComplianceCheck\n",
    "from qonscious.foms import BackendNoiseFoM\n",
    "\n",
    "MIN_OVERALL_NOISE = 0.985\n",
    "MIN_TWO_QUBIT_FIDELITY = 0.985\n",
    "MIN_READOUT_FIDELITY = 0.970\n",
    "\n",
    "\n",
    "def requires_noise_quality():\n",
    "    \"\"\"Return a predicate that validates the backend against the configured thresholds.\"\"\"\n",
    "    def predicate(result):\n",
    "        props = result[\"properties\"]\n",
    "        return (\n",
    "            props[\"overall_noise_score\"] >= MIN_OVERALL_NOISE\n",
    "            and props[\"two_qubit_gate_fidelity\"] >= MIN_TWO_QUBIT_FIDELITY\n",
    "            and props[\"readout_fidelity\"] >= MIN_READOUT_FIDELITY\n",
    "        )\n",
    "\n",
    "    return predicate\n",
    "\n",
    "\n",
    "check = MeritComplianceCheck(\n",
    "    figure_of_merit=BackendNoiseFoM(),\n",
    "    decision_function=requires_noise_quality()\n",
    ")\n"
   ]
  },
  {
   "cell_type": "markdown",
   "id": "8568f8fc",
   "metadata": {},
   "source": [
    "## Step 5 – Execute conditional workflow\n",
    "\n",
    "Run the Qonscious pipeline that evaluates the backend, applies the noise compliance check, and triggers the appropriate callback.\n"
   ]
  },
  {
   "cell_type": "code",
   "execution_count": 5,
   "id": "b37fda56",
   "metadata": {},
   "outputs": [
    {
     "name": "stdout",
     "output_type": "stream",
     "text": [
      "Noise compliance check passed.\n",
      "Noise metrics:\n",
      "  - Overall noise score: 0.992\n",
      "  - Single-qubit gate fidelity: 0.999\n",
      "  - Two-qubit gate fidelity: 0.990\n",
      "  - Readout fidelity: 0.980\n",
      "  - Coherence factor: 0.998\n",
      "  - T1 relaxation time (s): 0.000050\n",
      "  - T2 dephasing time (s): 0.000070\n",
      "  - Single-qubit gate duration (s): 0.000000050\n",
      "  - Two-qubit gate duration (s): 0.000000300\n",
      "  - Thermal population fraction: 0.0100\n",
      "  - Backend qubits: 5\n",
      "  - Backend name: CustomNoisyBackendAdapter\n",
      "Running the Bell-state reference circuit for verification.\n"
     ]
    }
   ],
   "source": [
    "from qonscious.actions import QonsciousCallable\n",
    "from qonscious import run_conditionally\n",
    "\n",
    "\n",
    "qonscious_result = run_conditionally(\n",
    "    backend_adapter=adapter,\n",
    "    checks=[check],\n",
    "    on_pass=QonsciousCallable(on_pass),\n",
    "    on_fail=QonsciousCallable(on_fail),\n",
    ")\n"
   ]
  },
  {
   "cell_type": "markdown",
   "id": "340f888c",
   "metadata": {},
   "source": [
    "## Step 6 – Visualize the validation data\n",
    "\n",
    "Plot the measurement counts from the Bell-state reference experiment to inspect the observed fidelity.\n"
   ]
  },
  {
   "cell_type": "code",
   "execution_count": 6,
   "id": "b10aabda",
   "metadata": {},
   "outputs": [
    {
     "data": {
      "image/png": "[encoded data removed]",
      "text/plain": [
       "<Figure size 640x480 with 1 Axes>"
      ]
     },
     "metadata": {},
     "output_type": "display_data"
    }
   ],
   "source": [
    "import matplotlib.pyplot as plt\n",
    "\n",
    "# Visualize the Bell-state measurement distribution when data is available.\n",
    "experiment_result = (qonscious_result or {}).get('experiment_result')  # type: ignore[union-attr]\n",
    "\n",
    "if not experiment_result:\n",
    "    print(\"No experiment result available; the visualization step is skipped.\")\n",
    "else:\n",
    "    counts = experiment_result.get('counts', {})\n",
    "    labels = ['00', '01', '10', '11']\n",
    "    values = [counts.get(k, 0) for k in labels]\n",
    "\n",
    "    total_shots = sum(values)\n",
    "    fidelity_z = (\n",
    "        (counts.get('00', 0) + counts.get('11', 0)) / total_shots\n",
    "        if total_shots else float('nan')\n",
    "    )\n",
    "    title = f\"Z-basis outcomes (F_Z = {fidelity_z:.3f})\"\n",
    "\n",
    "    fig, ax = plt.subplots()\n",
    "    bars = ax.bar(labels, values)\n",
    "    ax.set_title(title)\n",
    "    ax.set_xlabel(\"Outcome\")\n",
    "    ax.set_ylabel(\"Counts\")\n",
    "    ax.set_ylim(bottom=0)\n",
    "    ax.grid(True, axis='y', linestyle=':', linewidth=0.5)\n",
    "\n",
    "    for bar, value in zip(bars, values):\n",
    "        ax.text(\n",
    "            bar.get_x() + bar.get_width() / 2,\n",
    "            bar.get_height(),\n",
    "            str(value),\n",
    "            ha='center',\n",
    "            va='bottom',\n",
    "        )\n",
    "\n",
    "    plt.show()\n"
   ]
  },
  {
   "cell_type": "markdown",
   "metadata": {},
   "source": [
    "## Interpretation Guide\n",
    "- Successful runs provide a JSON summary of FoM metrics that you can store alongside experiment metadata.\n",
    "- Failed runs highlight which thresholds were breached, helping decide whether to recalibrate or reschedule.\n",
    "- The measurement plot surfaces readout skew; consider repeating the validation after noise-mitigation updates.\n"
   ]
  }
 ],
 "metadata": {
  "kernelspec": {
   "display_name": ".venv",
   "language": "python",
   "name": "python3"
  },
  "language_info": {
   "codemirror_mode": {
    "name": "ipython",
    "version": 3
   },
   "file_extension": ".py",
   "mimetype": "text/x-python",
   "name": "python",
   "nbconvert_exporter": "python",
   "pygments_lexer": "ipython3",
   "version": "3.11.9"
  }
 },
 "nbformat": 4,
 "nbformat_minor": 5
}
