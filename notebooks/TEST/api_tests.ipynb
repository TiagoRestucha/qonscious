{
 "cells": [
  {
   "cell_type": "markdown",
   "id": "43491577",
   "metadata": {},
   "source": [
    "Qonscious combines backend adapters, figures of merits, merit compliance checks, and actions to abstract what it means to perform resource aware conditional quantum computation in the NISQ era.\n",
    "Correcto\n",
    "## Adapters\n",
    "A BackendAdapter is the abstraction layer in Qonscious that standardizes access to quantum backends, whether they are real devices, cloud simulators, or local emulators. It exposes a uniform interface for executing quantum circuits and retrieving results in a consistent format, including counts, backend characteristics, and execution metadata. This allows Qonscious to remain agnostic to the specifics of backend APIs (such as IBM Sampler or Aer), while still supporting resource introspection, circuit execution, measurement, and runtime resource checks. Developers are free to implement custom adapters to integrate other platforms.\n",
    "\n",
    "You can create an adapter on Qiskit's SamplerV2 as follows:"
   ]
  },
  {
   "cell_type": "code",
   "execution_count": null,
   "id": "e9533b19",
   "metadata": {},
   "outputs": [],
   "source": [
    "from qonscious.adapters import AerSamplerAdapter\n",
    "adapter = AerSamplerAdapter()\n",
    "\n"
   ]
  },
  {
   "cell_type": "markdown",
   "id": "7561e756",
   "metadata": {},
   "source": [
    "You can create an adapter to work with one of IBM's fake (simulated computers) as follows:"
   ]
  },
  {
   "cell_type": "code",
   "execution_count": null,
   "id": "b000e86a",
   "metadata": {},
   "outputs": [],
   "source": [
    "from qiskit_ibm_runtime.fake_provider import FakeManilaV2\n",
    "from qonscious.adapters import IBMSamplerAdapter\n",
    "adapter = IBMSamplerAdapter(FakeManilaV2()) # edit as needed"
   ]
  },
  {
   "cell_type": "code",
   "execution_count": null,
   "id": "5c07eba8",
   "metadata": {},
   "outputs": [],
   "source": [
    "from qonscious.adapters import IonQBackendAdapter\n",
    "api_key = \"zX6nxTjXeClRj930SzRVRV3IrP6yg2NQ\"  # Tu API key directamente\n",
    "adapter = IonQBackendAdapter.aria_simulator(api_key)"
   ]
  },
  {
   "cell_type": "markdown",
   "id": "b2048d2a",
   "metadata": {},
   "source": [
    "# Extension from api to test some things:\n",
    "As seen; is a test for checking the Qbits of a specified backend, then make a decision based in the decision function \"requires_qbits_over(n)\" n is equal to an user input(integer)"
   ]
  },
  {
   "cell_type": "code",
   "execution_count": null,
   "id": "a973e5e2",
   "metadata": {},
   "outputs": [],
   "source": [
    "import json #import json module for pretty-printing nothing else\n",
    "def on_pass(backend_adapter, figureOfMeritResults):\n",
    "    \"\"\"\n",
    "    Se ejecuta si la comprobación de mérito es exitosa.\n",
    "    Imprime las propiedades y el número de qubits.\n",
    "    \"\"\"\n",
    "    firstFoMResult = figureOfMeritResults[0]\n",
    "    print(\"\\n--- Checks PASSED ---\")\n",
    "\n",
    "    # Accede al diccionario de propiedades de forma segura\n",
    "    properties = firstFoMResult.get('properties', {})\n",
    "\n",
    "    # 1. Imprime el diccionario 'properties' completo\n",
    "    print(\"\\n--- Calculated Properties ---\")\n",
    "    pretty_properties = json.dumps(properties, indent=2)\n",
    "    print(pretty_properties)\n",
    "\n",
    "    # 2. Imprime solo el valor de 'n_qubits'\n",
    "    num_qubits = properties.get('n_qubits', 'N/A')\n",
    "    print(f\"\\nNumber of Qubits: {num_qubits}\")\n",
    "    print(\"-\" * 25)\n",
    "\n",
    "    return None\n",
    "\n",
    "def on_fail(backend_adapter, figureOfMeritResults):\n",
    "    \"\"\"\n",
    "    Se ejecuta si la comprobación de mérito falla.\n",
    "    Imprime las propiedades y el número de qubits.\n",
    "    \"\"\"\n",
    "    firstFoMResult = figureOfMeritResults[0]\n",
    "    print(\"\\n--- Checks FAILED ---\")\n",
    "\n",
    "    # Accede al diccionario de propiedades de forma segura\n",
    "    properties = firstFoMResult.get('properties', {})\n",
    "\n",
    "    # 1. Imprime el diccionario 'properties' completo\n",
    "    print(\"\\n--- Calculated Properties ---\")\n",
    "    pretty_properties = json.dumps(properties, indent=2)\n",
    "    print(pretty_properties)\n",
    "\n",
    "\n",
    "    return None"
   ]
  },
  {
   "cell_type": "markdown",
   "id": "db8e9b74",
   "metadata": {},
   "source": [
    "# Duda:\n",
    "Cual es la manera de definirlo, es necesaria la decision function?"
   ]
  },
  {
   "cell_type": "code",
   "execution_count": null,
   "id": "ccb4121d",
   "metadata": {},
   "outputs": [],
   "source": [
    "from qonscious.checks import MeritComplianceCheck\n",
    "from qonscious.foms import AggregateQPUFigureOfMerit\n",
    "\n",
    "#check_QPU = MeritComplianceCheck(\n",
    "#   figure_of_merit=AggregateQPUFigureOfMerit()\n",
    "    #non decision function, question: if always true, why on_fail is mandatory?\n",
    "#)\n",
    "def requires_qbits_over(threshold: int):\n",
    "    return lambda r: r[\"properties\"][\"n_qubits\"] > threshold\n",
    "\n",
    "# New check with decision function that requires more than n qubits, modify as needed\n",
    "check_QPU= MeritComplianceCheck(\n",
    "    figure_of_merit=AggregateQPUFigureOfMerit(),\n",
    "    decision_function=requires_qbits_over(4)\n",
    ")\n",
    "\n"
   ]
  },
  {
   "cell_type": "code",
   "execution_count": null,
   "id": "0bb6b94f",
   "metadata": {},
   "outputs": [],
   "source": [
    "\n",
    "import os\n",
    "\n",
    "from qonscious import run_conditionally\n",
    "from qonscious.actions import QonsciousCallable\n",
    "from qonscious.adapters import IBMSamplerAdapter\n",
    "\n",
    "\n",
    "# we dont run any circuit, just the checks\n",
    "qonscious_result = run_conditionally(\n",
    "    backend_adapter=adapter,\n",
    "    checks=[check_QPU],\n",
    "    on_pass=QonsciousCallable(on_pass),\n",
    "    on_fail=QonsciousCallable(on_fail)\n",
    ")\n"
   ]
  },
  {
   "cell_type": "markdown",
   "id": "9cf2ab6c",
   "metadata": {},
   "source": [
    "You can create an adapter on IBM's least bussy (real) quantum computer as follows:"
   ]
  },
  {
   "cell_type": "code",
   "execution_count": null,
   "id": "9ea23af4",
   "metadata": {},
   "outputs": [],
   "source": [
    "import os\n",
    "from qonscious.adapters import IBMSamplerAdapter\n",
    "ibm_token = os.getenv(\"IBM_QUANTUM_TOKEN\") # edit as needed\n",
    "adapter = IBMSamplerAdapter.least_busy_backend(ibm_token)"
   ]
  },
  {
   "cell_type": "markdown",
   "id": "36118fdb",
   "metadata": {},
   "source": [
    "You can create an adapter that simulates one of IBM's real computers (using Aer's Simulator, and the real noise models)"
   ]
  },
  {
   "cell_type": "code",
   "execution_count": null,
   "id": "a9e0910b",
   "metadata": {},
   "outputs": [],
   "source": [
    "import os\n",
    "from qonscious.adapters import AerSimulatorAdapter\n",
    "ibm_token = os.getenv(\"IBM_QUANTUM_TOKEN\") # edit as needed\n",
    "adapter = AerSimulatorAdapter.based_on(ibm_token, backend_name=\"ibm_brisbane\") # you can choose a different one"
   ]
  },
  {
   "cell_type": "markdown",
   "id": "2bd30faa",
   "metadata": {},
   "source": [
    "You can even create an adapter on IonQ's QPU. This example shows how to work with the simulator of Aria-1 (including its noise model)."
   ]
  },
  {
   "cell_type": "code",
   "execution_count": null,
   "id": "0ee9a8c8",
   "metadata": {},
   "outputs": [],
   "source": [
    "import os\n",
    "from qonscious.adapters import IonQBackendAdapter\n",
    "api_key = os.getenv(\"IONQ_API_KEY\")\n",
    "adapter = IonQBackendAdapter.aria_simulator(api_key)"
   ]
  }
 ],
 "metadata": {
  "kernelspec": {
   "display_name": ".venv",
   "language": "python",
   "name": "python3"
  },
  "language_info": {
   "codemirror_mode": {
    "name": "ipython",
    "version": 3
   },
   "file_extension": ".py",
   "mimetype": "text/x-python",
   "name": "python",
   "nbconvert_exporter": "python",
   "pygments_lexer": "ipython3",
   "version": "3.11.13"
  }
 },
 "nbformat": 4,
 "nbformat_minor": 5
}
