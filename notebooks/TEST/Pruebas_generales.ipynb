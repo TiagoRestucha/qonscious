{
 "cells": [
  {
   "cell_type": "code",
   "execution_count": 1,
   "id": "d52264d8",
   "metadata": {},
   "outputs": [
    {
     "name": "stderr",
     "output_type": "stream",
     "text": [
      "/home/tiagorestucha/Desktop/qonscious/.venv/lib/python3.11/site-packages/qiskit_ionq/ionq_backend.py:127: IonQTranspileLevelWarning: Transpiler default optimization_level=2. IonQ (QIS) recommends 0-1 to avoid aggressive re-synthesis; use transpile(..., optimization_level=1).\n",
      "  warn_bad_transpile_level()\n"
     ]
    }
   ],
   "source": [
    "import os\n",
    "from qonscious.adapters import IonQBackendAdapter\n",
    "api_key = os.getenv(\"IONQ_API_KEY\")\n",
    "adapter = IonQBackendAdapter.aria_simulator(api_key)"
   ]
  },
  {
   "cell_type": "code",
   "execution_count": 2,
   "id": "ab8aace9",
   "metadata": {},
   "outputs": [],
   "source": [
    "from qiskit import QuantumCircuit\n",
    "\n",
    "\n",
    "# A helper function to create our phi_plus circuit.\n",
    "def build_phi_plus_circuit() :\n",
    "    phi_plus = QuantumCircuit(2)\n",
    "    phi_plus.h(0)\n",
    "    phi_plus.cx(0, 1)\n",
    "    phi_plus.measure_all()\n",
    "    return phi_plus"
   ]
  },
  {
   "cell_type": "code",
   "execution_count": 3,
   "id": "acd4ccb1",
   "metadata": {},
   "outputs": [],
   "source": [
    "import json\n",
    "import math\n",
    "from typing import Any, Dict\n",
    "import matplotlib.pyplot as plt\n",
    "\n",
    "def on_pass(backend_adapter, figureOfMeritResults):\n",
    "    print(\"\\n--- Checks PASSED ---\")\n",
    "    props = figureOfMeritResults[0].get('properties', {})\n",
    "    print(\"\\n--- Calculated Properties ---\")\n",
    "    print(json.dumps(props, indent=2))\n",
    "    print(f\"\\nNumber of Qubits: {getattr(backend_adapter, 'n_qubits', 'N/A')}\")\n",
    "    run_result = backend_adapter.run(build_phi_plus_circuit(), shots=2048)\n",
    "    return run_result\n",
    "\n",
    "def on_fail(backend_adapter, figureOfMeritResults):\n",
    "    print(\"\\n--- Checks FAILED ---\")\n",
    "    props = figureOfMeritResults[0].get('properties', {})\n",
    "    print(\"\\n--- Calculated Properties ---\")\n",
    "    print(json.dumps(props, indent=2))\n",
    "    print(f\"\\nNumber of Qubits: {getattr(backend_adapter, 'n_qubits', 'N/A')}\")\n",
    "    return None"
   ]
  },
  {
   "cell_type": "code",
   "execution_count": 4,
   "id": "dbc2e3e6",
   "metadata": {},
   "outputs": [],
   "source": [
    "from qonscious.checks import MeritComplianceCheck\n",
    "from qonscious.foms import BackendNoiseFoM\n",
    "MIN_OVERALL_NOISE = 0.985\n",
    "MIN_TWO_QUBIT_FIDELITY = 0.985\n",
    "MIN_READOUT_FIDELITY = 0.970\n",
    "\n",
    "\n",
    "def requires_noise_quality():\n",
    "    \"\"\"Return a predicate that validates the backend against the configured thresholds.\"\"\"\n",
    "    def predicate(result):\n",
    "        props = result[\"properties\"]\n",
    "        return (\n",
    "            props[\"overall_noise_score\"] >= MIN_OVERALL_NOISE\n",
    "            and props[\"two_qubit_gate_fidelity\"] >= MIN_TWO_QUBIT_FIDELITY\n",
    "            and props[\"readout_fidelity\"] >= MIN_READOUT_FIDELITY\n",
    "               \n",
    "        )\n",
    "    return predicate\n",
    "check = MeritComplianceCheck(\n",
    "    figure_of_merit=BackendNoiseFoM(),\n",
    "    decision_function=requires_noise_quality()\n",
    ")"
   ]
  },
  {
   "cell_type": "code",
   "execution_count": 5,
   "id": "4c8349f2",
   "metadata": {},
   "outputs": [
    {
     "name": "stdout",
     "output_type": "stream",
     "text": [
      "\n",
      "--- Checks PASSED ---\n",
      "\n",
      "--- Calculated Properties ---\n",
      "{\n",
      "  \"backend_qubits\": 29,\n",
      "  \"backend_name\": \"IonQBackendAdapter\",\n",
      "  \"T1\": 4.9999999999999996e-05,\n",
      "  \"T2\": 7e-05,\n",
      "  \"overall_noise_score\": 0.9993755936195775,\n",
      "  \"single_qubit_gate_fidelity\": 1.0,\n",
      "  \"two_qubit_gate_fidelity\": 1.0,\n",
      "  \"readout_fidelity\": 1.0,\n",
      "  \"coherence_factor\": 0.9975047128046468,\n",
      "  \"single_qubit_gate_duration_seconds\": 5.0000000000000004e-08,\n",
      "  \"two_qubit_gate_duration_seconds\": 3.0000000000000004e-07,\n",
      "  \"thermal_population_fraction\": 0.0\n",
      "}\n",
      "\n",
      "Number of Qubits: 29\n"
     ]
    },
    {
     "ename": "IonQCredentialsError",
     "evalue": "IonQCredentialsError('Credentials `token` may not be None!')",
     "output_type": "error",
     "traceback": [
      "\u001b[31m---------------------------------------------------------------------------\u001b[39m",
      "\u001b[31mIonQCredentialsError\u001b[39m                      Traceback (most recent call last)",
      "\u001b[36mCell\u001b[39m\u001b[36m \u001b[39m\u001b[32mIn[5]\u001b[39m\u001b[32m, line 4\u001b[39m\n\u001b[32m      1\u001b[39m \u001b[38;5;28;01mfrom\u001b[39;00m\u001b[38;5;250m \u001b[39m\u001b[34;01mqonscious\u001b[39;00m\u001b[34;01m.\u001b[39;00m\u001b[34;01mactions\u001b[39;00m\u001b[38;5;250m \u001b[39m\u001b[38;5;28;01mimport\u001b[39;00m QonsciousCallable\n\u001b[32m      2\u001b[39m \u001b[38;5;28;01mfrom\u001b[39;00m\u001b[38;5;250m \u001b[39m\u001b[34;01mqonscious\u001b[39;00m\u001b[38;5;250m \u001b[39m\u001b[38;5;28;01mimport\u001b[39;00m run_conditionally\n\u001b[32m----> \u001b[39m\u001b[32m4\u001b[39m qonscious_result = \u001b[43mrun_conditionally\u001b[49m\u001b[43m(\u001b[49m\n\u001b[32m      5\u001b[39m \u001b[43m    \u001b[49m\u001b[43mbackend_adapter\u001b[49m\u001b[43m=\u001b[49m\u001b[43madapter\u001b[49m\u001b[43m,\u001b[49m\n\u001b[32m      6\u001b[39m \u001b[43m    \u001b[49m\u001b[43mchecks\u001b[49m\u001b[43m=\u001b[49m\u001b[43m[\u001b[49m\u001b[43mcheck\u001b[49m\u001b[43m]\u001b[49m\u001b[43m,\u001b[49m\n\u001b[32m      7\u001b[39m \u001b[43m    \u001b[49m\u001b[43mon_pass\u001b[49m\u001b[43m=\u001b[49m\u001b[43mQonsciousCallable\u001b[49m\u001b[43m(\u001b[49m\u001b[43mon_pass\u001b[49m\u001b[43m)\u001b[49m\u001b[43m,\u001b[49m\n\u001b[32m      8\u001b[39m \u001b[43m    \u001b[49m\u001b[43mon_fail\u001b[49m\u001b[43m=\u001b[49m\u001b[43mQonsciousCallable\u001b[49m\u001b[43m(\u001b[49m\u001b[43mon_fail\u001b[49m\u001b[43m)\u001b[49m\u001b[43m,\u001b[49m\n\u001b[32m      9\u001b[39m \u001b[43m)\u001b[49m\n",
      "\u001b[36mFile \u001b[39m\u001b[32m~/Desktop/qonscious/src/qonscious/run_conditionally.py:51\u001b[39m, in \u001b[36mrun_conditionally\u001b[39m\u001b[34m(backend_adapter, checks, on_pass, on_fail, **kwargs)\u001b[39m\n\u001b[32m     48\u001b[39m         passed = \u001b[38;5;28;01mFalse\u001b[39;00m\n\u001b[32m     50\u001b[39m \u001b[38;5;28;01mif\u001b[39;00m passed:\n\u001b[32m---> \u001b[39m\u001b[32m51\u001b[39m     run_result = \u001b[43mon_pass\u001b[49m\u001b[43m.\u001b[49m\u001b[43mrun\u001b[49m\u001b[43m(\u001b[49m\u001b[43mbackend_adapter\u001b[49m\u001b[43m,\u001b[49m\u001b[43m \u001b[49m\u001b[43mfom_results\u001b[49m\u001b[43m,\u001b[49m\u001b[43m \u001b[49m\u001b[43m*\u001b[49m\u001b[43m*\u001b[49m\u001b[43mkwargs\u001b[49m\u001b[43m)\u001b[49m\n\u001b[32m     52\u001b[39m \u001b[38;5;28;01melse\u001b[39;00m:\n\u001b[32m     53\u001b[39m     run_result = on_fail.run(backend_adapter, fom_results, **kwargs)\n",
      "\u001b[36mFile \u001b[39m\u001b[32m~/Desktop/qonscious/src/qonscious/actions/qonscious_callable.py:26\u001b[39m, in \u001b[36mQonsciousCallable.run\u001b[39m\u001b[34m(self, backend_adapter, fom_results, **kwargs)\u001b[39m\n\u001b[32m     23\u001b[39m \u001b[38;5;28;01mdef\u001b[39;00m\u001b[38;5;250m \u001b[39m\u001b[34mrun\u001b[39m(\n\u001b[32m     24\u001b[39m     \u001b[38;5;28mself\u001b[39m, backend_adapter: BackendAdapter, fom_results: \u001b[38;5;28mlist\u001b[39m[FigureOfMeritResult], **kwargs\n\u001b[32m     25\u001b[39m ) -> ExperimentResult | \u001b[38;5;28;01mNone\u001b[39;00m:\n\u001b[32m---> \u001b[39m\u001b[32m26\u001b[39m     \u001b[38;5;28;01mreturn\u001b[39;00m \u001b[38;5;28;43mself\u001b[39;49m\u001b[43m.\u001b[49m\u001b[43mcallable\u001b[49m\u001b[43m(\u001b[49m\u001b[43mbackend_adapter\u001b[49m\u001b[43m,\u001b[49m\u001b[43m \u001b[49m\u001b[43mfom_results\u001b[49m\u001b[43m,\u001b[49m\u001b[43m \u001b[49m\u001b[43m*\u001b[49m\u001b[43m*\u001b[49m\u001b[43mkwargs\u001b[49m\u001b[43m)\u001b[49m\n",
      "\u001b[36mCell\u001b[39m\u001b[36m \u001b[39m\u001b[32mIn[3]\u001b[39m\u001b[32m, line 12\u001b[39m, in \u001b[36mon_pass\u001b[39m\u001b[34m(backend_adapter, figureOfMeritResults)\u001b[39m\n\u001b[32m     10\u001b[39m \u001b[38;5;28mprint\u001b[39m(json.dumps(props, indent=\u001b[32m2\u001b[39m))\n\u001b[32m     11\u001b[39m \u001b[38;5;28mprint\u001b[39m(\u001b[33mf\u001b[39m\u001b[33m\"\u001b[39m\u001b[38;5;130;01m\\n\u001b[39;00m\u001b[33mNumber of Qubits: \u001b[39m\u001b[38;5;132;01m{\u001b[39;00m\u001b[38;5;28mgetattr\u001b[39m(backend_adapter,\u001b[38;5;250m \u001b[39m\u001b[33m'\u001b[39m\u001b[33mn_qubits\u001b[39m\u001b[33m'\u001b[39m,\u001b[38;5;250m \u001b[39m\u001b[33m'\u001b[39m\u001b[33mN/A\u001b[39m\u001b[33m'\u001b[39m)\u001b[38;5;132;01m}\u001b[39;00m\u001b[33m\"\u001b[39m)\n\u001b[32m---> \u001b[39m\u001b[32m12\u001b[39m run_result = \u001b[43mbackend_adapter\u001b[49m\u001b[43m.\u001b[49m\u001b[43mrun\u001b[49m\u001b[43m(\u001b[49m\u001b[43mbuild_phi_plus_circuit\u001b[49m\u001b[43m(\u001b[49m\u001b[43m)\u001b[49m\u001b[43m,\u001b[49m\u001b[43m \u001b[49m\u001b[43mshots\u001b[49m\u001b[43m=\u001b[49m\u001b[32;43m2048\u001b[39;49m\u001b[43m)\u001b[49m\n\u001b[32m     13\u001b[39m \u001b[38;5;28;01mreturn\u001b[39;00m run_result\n",
      "\u001b[36mFile \u001b[39m\u001b[32m~/Desktop/qonscious/src/qonscious/adapters/ionq_backend_adapter.py:84\u001b[39m, in \u001b[36mIonQBackendAdapter.run\u001b[39m\u001b[34m(self, circuit, **kwargs)\u001b[39m\n\u001b[32m     82\u001b[39m created = datetime.now(timezone.utc).isoformat()\n\u001b[32m     83\u001b[39m running = datetime.now(timezone.utc).isoformat()\n\u001b[32m---> \u001b[39m\u001b[32m84\u001b[39m job = \u001b[38;5;28;43mself\u001b[39;49m\u001b[43m.\u001b[49m\u001b[43mbackend\u001b[49m\u001b[43m.\u001b[49m\u001b[43mrun\u001b[49m\u001b[43m(\u001b[49m\u001b[43m[\u001b[49m\u001b[43mcircuit\u001b[49m\u001b[43m]\u001b[49m\u001b[43m,\u001b[49m\u001b[43m \u001b[49m\u001b[43mshots\u001b[49m\u001b[43m=\u001b[49m\u001b[43mkwargs\u001b[49m\u001b[43m[\u001b[49m\u001b[33;43m\"\u001b[39;49m\u001b[33;43mshots\u001b[39;49m\u001b[33;43m\"\u001b[39;49m\u001b[43m]\u001b[49m\u001b[43m)\u001b[49m\n\u001b[32m     85\u001b[39m finished = datetime.now(timezone.utc).isoformat()\n\u001b[32m     86\u001b[39m counts = job.get_counts()\n",
      "\u001b[36mFile \u001b[39m\u001b[32m~/Desktop/qonscious/.venv/lib/python3.11/site-packages/qiskit_ionq/ionq_backend.py:229\u001b[39m, in \u001b[36mIonQBackend.run\u001b[39m\u001b[34m(self, run_input, **options)\u001b[39m\n\u001b[32m    223\u001b[39m \u001b[38;5;66;03m# Merge default options with user overrides\u001b[39;00m\n\u001b[32m    224\u001b[39m run_opts = {**\u001b[38;5;28mself\u001b[39m.options.\u001b[34m__dict__\u001b[39m, **options}\n\u001b[32m    226\u001b[39m job = ionq_job.IonQJob(\n\u001b[32m    227\u001b[39m     backend=\u001b[38;5;28mself\u001b[39m,\n\u001b[32m    228\u001b[39m     job_id=\u001b[38;5;28;01mNone\u001b[39;00m,\n\u001b[32m--> \u001b[39m\u001b[32m229\u001b[39m     client=\u001b[38;5;28;43mself\u001b[39;49m\u001b[43m.\u001b[49m\u001b[43mclient\u001b[49m,\n\u001b[32m    230\u001b[39m     circuit=run_input,\n\u001b[32m    231\u001b[39m     passed_args=run_opts,\n\u001b[32m    232\u001b[39m )\n\u001b[32m    233\u001b[39m job.submit()\n\u001b[32m    234\u001b[39m \u001b[38;5;28;01mreturn\u001b[39;00m job\n",
      "\u001b[36mFile \u001b[39m\u001b[32m~/Desktop/qonscious/.venv/lib/python3.11/site-packages/qiskit_ionq/ionq_backend.py:172\u001b[39m, in \u001b[36mIonQBackend.client\u001b[39m\u001b[34m(self)\u001b[39m\n\u001b[32m    170\u001b[39m \u001b[38;5;250m\u001b[39m\u001b[33;03m\"\"\"Return the IonQ client for this backend.\"\"\"\u001b[39;00m\n\u001b[32m    171\u001b[39m \u001b[38;5;28;01mif\u001b[39;00m \u001b[38;5;28mself\u001b[39m._client \u001b[38;5;129;01mis\u001b[39;00m \u001b[38;5;28;01mNone\u001b[39;00m:\n\u001b[32m--> \u001b[39m\u001b[32m172\u001b[39m     \u001b[38;5;28mself\u001b[39m._client = \u001b[38;5;28;43mself\u001b[39;49m\u001b[43m.\u001b[49m\u001b[43m_create_client\u001b[49m\u001b[43m(\u001b[49m\u001b[43m)\u001b[49m\n\u001b[32m    173\u001b[39m \u001b[38;5;28;01mreturn\u001b[39;00m \u001b[38;5;28mself\u001b[39m._client\n",
      "\u001b[36mFile \u001b[39m\u001b[32m~/Desktop/qonscious/.venv/lib/python3.11/site-packages/qiskit_ionq/ionq_backend.py:184\u001b[39m, in \u001b[36mIonQBackend._create_client\u001b[39m\u001b[34m(self)\u001b[39m\n\u001b[32m    182\u001b[39m token = creds[\u001b[33m\"\u001b[39m\u001b[33mtoken\u001b[39m\u001b[33m\"\u001b[39m]\n\u001b[32m    183\u001b[39m \u001b[38;5;28;01mif\u001b[39;00m token \u001b[38;5;129;01mis\u001b[39;00m \u001b[38;5;28;01mNone\u001b[39;00m:\n\u001b[32m--> \u001b[39m\u001b[32m184\u001b[39m     \u001b[38;5;28;01mraise\u001b[39;00m exceptions.IonQCredentialsError(\n\u001b[32m    185\u001b[39m         \u001b[33m\"\u001b[39m\u001b[33mCredentials `token` may not be None!\u001b[39m\u001b[33m\"\u001b[39m\n\u001b[32m    186\u001b[39m     )\n\u001b[32m    188\u001b[39m \u001b[38;5;28;01mif\u001b[39;00m \u001b[33m\"\u001b[39m\u001b[33murl\u001b[39m\u001b[33m\"\u001b[39m \u001b[38;5;129;01mnot\u001b[39;00m \u001b[38;5;129;01min\u001b[39;00m creds:\n\u001b[32m    189\u001b[39m     \u001b[38;5;28;01mraise\u001b[39;00m exceptions.IonQCredentialsError(\n\u001b[32m    190\u001b[39m         \u001b[33m\"\u001b[39m\u001b[33mCredentials `url` not present in provider.\u001b[39m\u001b[33m\"\u001b[39m\n\u001b[32m    191\u001b[39m     )\n",
      "\u001b[31mIonQCredentialsError\u001b[39m: IonQCredentialsError('Credentials `token` may not be None!')"
     ]
    }
   ],
   "source": [
    "from qonscious.actions import QonsciousCallable\n",
    "from qonscious import run_conditionally\n",
    "\n",
    "qonscious_result = run_conditionally(\n",
    "    backend_adapter=adapter,\n",
    "    checks=[check],\n",
    "    on_pass=QonsciousCallable(on_pass),\n",
    "    on_fail=QonsciousCallable(on_fail),\n",
    ")"
   ]
  }
 ],
 "metadata": {
  "kernelspec": {
   "display_name": ".venv",
   "language": "python",
   "name": "python3"
  },
  "language_info": {
   "codemirror_mode": {
    "name": "ipython",
    "version": 3
   },
   "file_extension": ".py",
   "mimetype": "text/x-python",
   "name": "python",
   "nbconvert_exporter": "python",
   "pygments_lexer": "ipython3",
   "version": "3.11.9"
  }
 },
 "nbformat": 4,
 "nbformat_minor": 5
}
