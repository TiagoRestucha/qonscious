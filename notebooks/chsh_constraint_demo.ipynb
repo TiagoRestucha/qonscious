{
 "cells": [
  {
   "cell_type": "code",
   "execution_count": null,
   "id": "d79e64e5",
   "metadata": {},
   "outputs": [],
   "source": [
    "# Run setup_imports to enable importing from src/\n",
    "%run ./setup_imports.py"
   ]
  },
  {
   "cell_type": "code",
   "execution_count": null,
   "id": "07e1b985",
   "metadata": {},
   "outputs": [],
   "source": [
    "from qonscious.constraints.packed_chsh import PackedCHSHTest\n",
    "from qonscious.policies import MinimumAcceptableValue\n",
    "from qonscious.core.executor import run_conditionally\n",
    "from qonscious.core.aer_sampler_adapter import AerSamplerAdapter"
   ]
  },
  {
   "cell_type": "code",
   "execution_count": null,
   "id": "87ddf4b4",
   "metadata": {},
   "outputs": [],
   "source": [
    "passing_policy = MinimumAcceptableValue(1.5)\n",
    "failing_policy = MinimumAcceptableValue(2.9)"
   ]
  },
  {
   "cell_type": "code",
   "execution_count": null,
   "id": "39d80b1e",
   "metadata": {},
   "outputs": [],
   "source": [
    "def on_pass(backend, introspection):\n",
    "    print(\"CHSH test passed!\")\n",
    "    print(f\"Score: {introspection['CHSH_score']:.3f}\")\n",
    "    return introspection\n",
    "\n",
    "def on_fail(backend, introspection):\n",
    "    print(\"CHSH test failed.\")\n",
    "    print(f\"Score: {introspection['CHSH_score']:.3f}\")\n",
    "    return introspection"
   ]
  },
  {
   "cell_type": "code",
   "execution_count": null,
   "id": "0ee19de2",
   "metadata": {},
   "outputs": [],
   "source": [
    "backend = AerSamplerAdapter()\n",
    "constraint = PackedCHSHTest(passing_policy)\n",
    "\n",
    "print(\"Running CHSH test with passing threshold...\\n\")\n",
    "run_conditionally(\n",
    "    backend_adapter=backend,\n",
    "    constraint=constraint,\n",
    "    on_pass=on_pass,\n",
    "    on_fail=on_fail,\n",
    "    shots=2048\n",
    ")\n"
   ]
  },
  {
   "cell_type": "code",
   "execution_count": null,
   "id": "f825e096",
   "metadata": {},
   "outputs": [],
   "source": [
    "constraint = PackedCHSHTest(failing_policy)\n",
    "\n",
    "print(\"\\nRunning CHSH test with failing threshold...\\n\")\n",
    "run_conditionally(\n",
    "    backend_adapter=backend,\n",
    "    constraint=constraint,\n",
    "    on_pass=on_pass,\n",
    "    on_fail=on_fail,\n",
    "    shots=2048\n",
    ")"
   ]
  },
  {
   "cell_type": "code",
   "execution_count": null,
   "id": "7af86735",
   "metadata": {},
   "outputs": [],
   "source": []
  }
 ],
 "metadata": {
  "kernelspec": {
   "display_name": ".venv",
   "language": "python",
   "name": "python3"
  },
  "language_info": {
   "codemirror_mode": {
    "name": "ipython",
    "version": 3
   },
   "file_extension": ".py",
   "mimetype": "text/x-python",
   "name": "python",
   "nbconvert_exporter": "python",
   "pygments_lexer": "ipython3",
   "version": "3.9.6"
  }
 },
 "nbformat": 4,
 "nbformat_minor": 5
}
