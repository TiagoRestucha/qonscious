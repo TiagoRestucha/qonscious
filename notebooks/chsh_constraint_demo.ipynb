{
 "cells": [
  {
   "cell_type": "code",
   "execution_count": 6,
   "id": "d79e64e5",
   "metadata": {},
   "outputs": [],
   "source": [
    "# Run setup_imports to enable importing from src/\n",
    "%run ./setup_imports.py"
   ]
  },
  {
   "cell_type": "code",
   "execution_count": 7,
   "id": "07e1b985",
   "metadata": {},
   "outputs": [],
   "source": [
    "from qonscious.constraints.packed_chsh import PackedCHSHTest\n",
    "from qonscious.policies import MinimumAcceptableValue\n",
    "from qonscious.core.executor import run_conditionally\n",
    "from qonscious.core.aer_sampler_adapter import AerSamplerAdapter"
   ]
  },
  {
   "cell_type": "code",
   "execution_count": 8,
   "id": "87ddf4b4",
   "metadata": {},
   "outputs": [],
   "source": [
    "passing_policy = MinimumAcceptableValue(1.5)\n",
    "failing_policy = MinimumAcceptableValue(2.9)"
   ]
  },
  {
   "cell_type": "code",
   "execution_count": 9,
   "id": "39d80b1e",
   "metadata": {},
   "outputs": [],
   "source": [
    "def on_pass(backend, introspection):\n",
    "    print(\"CHSH test passed!\")\n",
    "    print(f\"Score: {introspection['CHSH_score']:.3f}\")\n",
    "    return introspection\n",
    "\n",
    "def on_fail(backend, introspection):\n",
    "    print(\"CHSH test failed.\")\n",
    "    print(f\"Score: {introspection['CHSH_score']:.3f}\")\n",
    "    return introspection"
   ]
  },
  {
   "cell_type": "code",
   "execution_count": 10,
   "id": "0ee19de2",
   "metadata": {},
   "outputs": [
    {
     "name": "stdout",
     "output_type": "stream",
     "text": [
      "Running CHSH test with passing threshold...\n",
      "\n",
      "CHSH test passed!\n",
      "Score: 2.802\n"
     ]
    },
    {
     "name": "stderr",
     "output_type": "stream",
     "text": [
      "/var/folders/sy/b2bz14411yv4n78xk1t7k31r0000gn/T/ipykernel_3299/3043173648.py:1: DeprecationWarning: Sampler has been deprecated as of Aer 0.15, please use SamplerV2 instead.\n",
      "  backend = AerSamplerAdapter()\n"
     ]
    },
    {
     "data": {
      "text/plain": [
       "{'E00': 0.70703125,\n",
       " 'E01': 0.701171875,\n",
       " 'E10': 0.69140625,\n",
       " 'E11': -0.7021484375,\n",
       " 'CHSH_score': 2.8017578125}"
      ]
     },
     "execution_count": 10,
     "metadata": {},
     "output_type": "execute_result"
    }
   ],
   "source": [
    "backend = AerSamplerAdapter()\n",
    "constraint = PackedCHSHTest(passing_policy)\n",
    "\n",
    "print(\"Running CHSH test with passing threshold...\\n\")\n",
    "run_conditionally(\n",
    "    backend_adapter=backend,\n",
    "    constraint=constraint,\n",
    "    on_pass=on_pass,\n",
    "    on_fail=on_fail,\n",
    "    shots=2048\n",
    ")\n"
   ]
  },
  {
   "cell_type": "code",
   "execution_count": 11,
   "id": "f825e096",
   "metadata": {},
   "outputs": [
    {
     "name": "stdout",
     "output_type": "stream",
     "text": [
      "\n",
      "Running CHSH test with failing threshold...\n",
      "\n",
      "CHSH test failed.\n",
      "Score: 2.865\n"
     ]
    },
    {
     "data": {
      "text/plain": [
       "{'E00': 0.728515625,\n",
       " 'E01': 0.6953125,\n",
       " 'E10': 0.712890625,\n",
       " 'E11': -0.728515625,\n",
       " 'CHSH_score': 2.865234375}"
      ]
     },
     "execution_count": 11,
     "metadata": {},
     "output_type": "execute_result"
    }
   ],
   "source": [
    "constraint = PackedCHSHTest(failing_policy)\n",
    "\n",
    "print(\"\\nRunning CHSH test with failing threshold...\\n\")\n",
    "run_conditionally(\n",
    "    backend_adapter=backend,\n",
    "    constraint=constraint,\n",
    "    on_pass=on_pass,\n",
    "    on_fail=on_fail,\n",
    "    shots=2048\n",
    ")"
   ]
  },
  {
   "cell_type": "code",
   "execution_count": null,
   "id": "7af86735",
   "metadata": {},
   "outputs": [],
   "source": []
  }
 ],
 "metadata": {
  "kernelspec": {
   "display_name": ".venv",
   "language": "python",
   "name": "python3"
  },
  "language_info": {
   "codemirror_mode": {
    "name": "ipython",
    "version": 3
   },
   "file_extension": ".py",
   "mimetype": "text/x-python",
   "name": "python",
   "nbconvert_exporter": "python",
   "pygments_lexer": "ipython3",
   "version": "3.9.6"
  }
 },
 "nbformat": 4,
 "nbformat_minor": 5
}
