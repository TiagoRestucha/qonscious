{
 "cells": [
  {
   "cell_type": "markdown",
   "id": "header",
   "metadata": {},
   "source": [
    "# Testing Aer Simulator Methods\n",
    "\n",
    "This notebook tests different Aer simulator methods with the Qonscious framework.\n",
    "\n",
    "Available Aer simulation methods:\n",
    "- **automatic**: Automatically select the best method\n",
    "- **statevector**: State vector simulation\n",
    "- **density_matrix**: Density matrix simulation\n",
    "- **stabilizer**: Stabilizer simulation (Clifford circuits only)\n",
    "- **matrix_product_state**: Matrix product state simulation\n",
    "- **extended_stabilizer**: Extended stabilizer simulation\n",
    "- **unitary**: Unitary matrix simulation\n",
    "- **superop**: Superoperator simulation"
   ]
  },
  {
   "cell_type": "markdown",
   "id": "imports",
   "metadata": {},
   "source": [
    "## Setup and Imports"
   ]
  },
  {
   "cell_type": "code",
   "execution_count": null,
   "id": "imports_cell",
   "metadata": {},
   "outputs": [],
   "source": [
    "import json\n",
    "from qiskit import QuantumCircuit\n",
    "from qiskit_aer import AerSimulator\n",
    "from qiskit_aer.primitives import SamplerV2 as Sampler\n",
    "from qonscious.adapters import AerSimulatorAdapter\n",
    "from qonscious.checks import MeritComplianceCheck\n",
    "from qonscious.foms import AggregateQPUFigureOfMerit\n",
    "from qonscious.actions import QonsciousCallable\n",
    "from qonscious import run_conditionally"
   ]
  },
  {
   "cell_type": "markdown",
   "id": "helper_functions",
   "metadata": {},
   "source": [
    "## Helper Functions"
   ]
  },
  {
   "cell_type": "code",
   "execution_count": null,
   "id": "helpers",
   "metadata": {},
   "outputs": [],
   "source": [
    "def create_test_circuit(n_qubits=3):\n",
    "    \"\"\"Create a simple Bell-like test circuit.\"\"\"\n",
    "    qc = QuantumCircuit(n_qubits)\n",
    "    qc.h(0)\n",
    "    for i in range(n_qubits - 1):\n",
    "        qc.cx(i, i + 1)\n",
    "    qc.measure_all()\n",
    "    return qc\n",
    "\n",
    "def on_pass(backend_adapter, figureOfMeritResults):\n",
    "    \"\"\"Executed if merit check passes.\"\"\"\n",
    "    firstFoMResult = figureOfMeritResults[0]\n",
    "    print(\"\\n--- Checks PASSED ---\")\n",
    "    properties = firstFoMResult.get('properties', {})\n",
    "    print(\"\\n--- Calculated Properties ---\")\n",
    "    pretty_properties = json.dumps(properties, indent=2)\n",
    "    print(pretty_properties)\n",
    "    num_qubits = properties.get('n_qubits', 'N/A')\n",
    "    print(f\"\\nNumber of Qubits: {num_qubits}\")\n",
    "    print(\"-\" * 25)\n",
    "    return None\n",
    "\n",
    "def on_fail(backend_adapter, figureOfMeritResults):\n",
    "    \"\"\"Executed if merit check fails.\"\"\"\n",
    "    firstFoMResult = figureOfMeritResults[0]\n",
    "    print(\"\\n--- Checks FAILED ---\")\n",
    "    properties = firstFoMResult.get('properties', {})\n",
    "    print(\"\\n--- Calculated Properties ---\")\n",
    "    pretty_properties = json.dumps(properties, indent=2)\n",
    "    print(pretty_properties)\n",
    "    return None"
   ]
  },
  {
   "cell_type": "markdown",
   "id": "test_function",
   "metadata": {},
   "source": [
    "## Test Function for Each Method"
   ]
  },
  {
   "cell_type": "code",
   "execution_count": null,
   "id": "test_func",
   "metadata": {},
   "outputs": [],
   "source": [
    "def test_aer_method(method_name, n_qubits=3, qubit_threshold=2):\n",
    "    \"\"\"\n",
    "    Test a specific Aer simulator method.\n",
    "    \n",
    "    Args:\n",
    "        method_name: Aer simulation method\n",
    "        n_qubits: Number of qubits for the simulator\n",
    "        qubit_threshold: Minimum qubits required to pass check\n",
    "    \"\"\"\n",
    "    print(f\"\\n{'='*60}\")\n",
    "    print(f\"Testing Aer Simulator Method: {method_name}\")\n",
    "    print(f\"{'='*60}\")\n",
    "    \n",
    "    try:\n",
    "        # Create simulator with specific method\n",
    "        simulator = AerSimulator(method=method_name)\n",
    "        sampler = Sampler(backend=simulator)\n",
    "        \n",
    "        # Create mock qubit properties (for local simulator)\n",
    "        qubits_properties = [\n",
    "            {\"T1\": [100e-6], \"T2\": [80e-6]} for _ in range(n_qubits)\n",
    "        ]\n",
    "        \n",
    "        # Create adapter\n",
    "        adapter = AerSimulatorAdapter(sampler, simulator, qubits_properties)\n",
    "        \n",
    "        print(f\"\\nSimulator Method: {method_name}\")\n",
    "        print(f\"Available Qubits: {adapter.n_qubits}\")\n",
    "        \n",
    "        # Create merit compliance check\n",
    "        check_QPU = MeritComplianceCheck(\n",
    "            figure_of_merit=AggregateQPUFigureOfMerit(),\n",
    "            decision_function=lambda r: r is not None and r[\"properties\"][\"n_qubits\"] > qubit_threshold\n",
    "        )\n",
    "        \n",
    "        # Run conditional check\n",
    "        qonscious_result = run_conditionally(\n",
    "            backend_adapter=adapter,\n",
    "            checks=[check_QPU],\n",
    "            on_pass=QonsciousCallable(on_pass),\n",
    "            on_fail=QonsciousCallable(on_fail)\n",
    "        )\n",
    "        \n",
    "        # Run a test circuit\n",
    "        print(f\"\\n--- Running Test Circuit ---\")\n",
    "        circuit = create_test_circuit(min(n_qubits, 3))\n",
    "        result = adapter.run(circuit, shots=1000)\n",
    "        print(f\"Circuit executed successfully\")\n",
    "        print(f\"Result counts: {result['counts']}\")\n",
    "        \n",
    "        return qonscious_result\n",
    "        \n",
    "    except Exception as e:\n",
    "        print(f\"\\n❌ Error testing method '{method_name}': {str(e)}\")\n",
    "        return None"
   ]
  },
  {
   "cell_type": "markdown",
   "id": "test_automatic",
   "metadata": {},
   "source": [
    "## Test 1: Automatic Method"
   ]
  },
  {
   "cell_type": "code",
   "execution_count": null,
   "id": "automatic",
   "metadata": {},
   "outputs": [],
   "source": [
    "test_aer_method('automatic', n_qubits=5, qubit_threshold=2)"
   ]
  },
  {
   "cell_type": "markdown",
   "id": "test_statevector",
   "metadata": {},
   "source": [
    "## Test 2: Statevector Method"
   ]
  },
  {
   "cell_type": "code",
   "execution_count": null,
   "id": "statevector",
   "metadata": {},
   "outputs": [],
   "source": [
    "test_aer_method('statevector', n_qubits=5, qubit_threshold=2)"
   ]
  },
  {
   "cell_type": "markdown",
   "id": "test_density_matrix",
   "metadata": {},
   "source": [
    "## Test 3: Density Matrix Method"
   ]
  },
  {
   "cell_type": "code",
   "execution_count": null,
   "id": "density_matrix",
   "metadata": {},
   "outputs": [],
   "source": [
    "test_aer_method('density_matrix', n_qubits=5, qubit_threshold=2)"
   ]
  },
  {
   "cell_type": "markdown",
   "id": "test_stabilizer",
   "metadata": {},
   "source": [
    "## Test 4: Stabilizer Method\n",
    "\n",
    "Note: Stabilizer simulation only works with Clifford circuits (H, S, CNOT, etc.)"
   ]
  },
  {
   "cell_type": "code",
   "execution_count": null,
   "id": "stabilizer",
   "metadata": {},
   "outputs": [],
   "source": [
    "test_aer_method('stabilizer', n_qubits=5, qubit_threshold=2)"
   ]
  },
  {
   "cell_type": "markdown",
   "id": "test_mps",
   "metadata": {},
   "source": [
    "## Test 5: Matrix Product State Method"
   ]
  },
  {
   "cell_type": "code",
   "execution_count": null,
   "id": "mps",
   "metadata": {},
   "outputs": [],
   "source": [
    "test_aer_method('matrix_product_state', n_qubits=5, qubit_threshold=2)"
   ]
  },
  {
   "cell_type": "markdown",
   "id": "test_extended_stabilizer",
   "metadata": {},
   "source": [
    "## Test 6: Extended Stabilizer Method"
   ]
  },
  {
   "cell_type": "code",
   "execution_count": null,
   "id": "extended_stabilizer",
   "metadata": {},
   "outputs": [],
   "source": [
    "test_aer_method('extended_stabilizer', n_qubits=5, qubit_threshold=2)"
   ]
  },
  {
   "cell_type": "markdown",
   "id": "test_unitary",
   "metadata": {},
   "source": [
    "## Test 7: Unitary Method\n",
    "\n",
    "Note: Unitary simulation doesn't support measurement, so this may fail"
   ]
  },
  {
   "cell_type": "code",
   "execution_count": null,
   "id": "unitary",
   "metadata": {},
   "outputs": [],
   "source": [
    "# Unitary method requires circuits without measurements\n",
    "# This will likely fail with the current test circuit\n",
    "test_aer_method('unitary', n_qubits=5, qubit_threshold=2)"
   ]
  },
  {
   "cell_type": "markdown",
   "id": "test_superop",
   "metadata": {},
   "source": [
    "## Test 8: Superoperator Method\n",
    "\n",
    "Note: Superoperator simulation doesn't support measurement, so this may fail"
   ]
  },
  {
   "cell_type": "code",
   "execution_count": null,
   "id": "superop",
   "metadata": {},
   "outputs": [],
   "source": [
    "# Superop method requires circuits without measurements\n",
    "# This will likely fail with the current test circuit\n",
    "test_aer_method('superop', n_qubits=5, qubit_threshold=2)"
   ]
  },
  {
   "cell_type": "markdown",
   "id": "test_all",
   "metadata": {},
   "source": [
    "## Test All Methods at Once"
   ]
  },
  {
   "cell_type": "code",
   "execution_count": null,
   "id": "all_methods",
   "metadata": {},
   "outputs": [],
   "source": [
    "methods = [\n",
    "    'automatic',\n",
    "    'statevector',\n",
    "    'density_matrix',\n",
    "    'stabilizer',\n",
    "    'matrix_product_state',\n",
    "    'extended_stabilizer',\n",
    "    'unitary',\n",
    "    'superop'\n",
    "]\n",
    "\n",
    "print(\"\\n\" + \"=\"*60)\n",
    "print(\"TESTING ALL AER SIMULATOR METHODS\")\n",
    "print(\"=\"*60)\n",
    "\n",
    "results = {}\n",
    "for method in methods:\n",
    "    result = test_aer_method(method, n_qubits=5, qubit_threshold=2)\n",
    "    results[method] = result\n",
    "    print(\"\\n\")\n",
    "\n",
    "print(\"\\n\" + \"=\"*60)\n",
    "print(\"SUMMARY\")\n",
    "print(\"=\"*60)\n",
    "for method, result in results.items():\n",
    "    status = \"✅ Success\" if result is not None else \"❌ Failed\"\n",
    "    print(f\"{method:25s} - {status}\")"
   ]
  },
  {
   "cell_type": "markdown",
   "id": "comparison",
   "metadata": {},
   "source": [
    "## Comparison: Different Qubit Counts\n",
    "\n",
    "Test how different methods handle varying qubit counts"
   ]
  },
  {
   "cell_type": "code",
   "execution_count": null,
   "id": "qubit_comparison",
   "metadata": {},
   "outputs": [],
   "source": [
    "# Test with different qubit counts\n",
    "qubit_counts = [3, 5, 10]\n",
    "test_methods = ['automatic', 'statevector', 'matrix_product_state']\n",
    "\n",
    "for n_qubits in qubit_counts:\n",
    "    print(f\"\\n{'='*60}\")\n",
    "    print(f\"Testing with {n_qubits} qubits\")\n",
    "    print(f\"{'='*60}\")\n",
    "    \n",
    "    for method in test_methods:\n",
    "        test_aer_method(method, n_qubits=n_qubits, qubit_threshold=2)\n",
    "        print()"
   ]
  }
 ],
 "metadata": {
  "kernelspec": {
   "display_name": ".venv",
   "language": "python",
   "name": "python3"
  },
  "language_info": {
   "codemirror_mode": {
    "name": "ipython",
    "version": 3
   },
   "file_extension": ".py",
   "mimetype": "text/x-python",
   "name": "python",
   "nbconvert_exporter": "python",
   "pygments_lexer": "ipython3",
   "version": "3.11.9"
  }
 },
 "nbformat": 4,
 "nbformat_minor": 5
}
