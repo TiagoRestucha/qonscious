{
 "cells": [
  {
   "cell_type": "markdown",
   "id": "6c386152",
   "metadata": {},
   "source": [
    "# Generate a Phi+ Bell state conditional on a good CHSH Score\n",
    "\n",
    "Let's say you need to run a simple circuit that creates and measures a Phi+ Bell state. \n",
    "\n",
    "You realize that for such a circuit, the computer's capability to entanglement is paramount. So, you to run your Phi+ circuit only if (conditional on)  the computer can generate a CHSH score that is close (e.g., 90%) to the ideal Tsirelson’s bound (~2.82).\n",
    "\n",
    "Let's go step by step. We will explore:\n",
    "\n",
    "1. Prepare our Phi+ circuit (nothing special about this).\n",
    "2. Create a function that will run our circuit on a backend if it (the backend) can get to a CHSH score over a certain threshold.\n",
    "3. Create a function that will do something else if the backend cannot get a CHSH score over the threshold. \n",
    "4. Configure a CHSH compliance check (that will tell if the backend serves our purpose or not)\n",
    "5. Automatically run one function or the other depending on the compliance check we just defined. \n",
    "6. Plot results "
   ]
  },
  {
   "cell_type": "code",
   "execution_count": 1,
   "id": "fd186d91",
   "metadata": {},
   "outputs": [],
   "source": [
    "from qiskit import QuantumCircuit\n",
    "\n",
    "\n",
    "# A helper function to create our phi_plus circuit.\n",
    "def build_phi_plus_circuit() :\n",
    "    phi_plus = QuantumCircuit(2)\n",
    "    phi_plus.h(0)\n",
    "    phi_plus.cx(0, 1)\n",
    "    phi_plus.measure_all()\n",
    "    return phi_plus"
   ]
  },
  {
   "cell_type": "code",
   "execution_count": 2,
   "id": "39d80b1e",
   "metadata": {},
   "outputs": [],
   "source": [
    "from qonscious.adapters import BackendAdapter\n",
    "\n",
    "\n",
    "# This is the callback function that will run if the CHSH checks passes.\n",
    "# It prints the chsh score, and runs the phi_plus cirtuit.\n",
    "def on_pass(backend_adapter : BackendAdapter, figureOfMeritResults):\n",
    "    firstFoMResult = figureOfMeritResults[0]\n",
    "    print(\"CHSH test passed!\")\n",
    "    print(f\"Score: {firstFoMResult['properties']['score']:.3f}\")\n",
    "    print(\"Running our Phi+ circuit\")\n",
    "    run_result = backend_adapter.run(build_phi_plus_circuit(), shots=2048)\n",
    "    print(\"Phi+ circuit finished running\")\n",
    "    return run_result\n",
    "\n",
    "# This is the callback function that will run if the CHSH checks fails.\n",
    "# Iit just prints a message and the CHSH score\n",
    "def on_fail(backend_adapter : BackendAdapter, figureOfMeritResults):\n",
    "    firstFoMResult = figureOfMeritResults[0]\n",
    "    print(\"CHSH test failed!\")\n",
    "    print(f\"Score: {firstFoMResult['properties']['score']:.3f}\")\n",
    "    return None"
   ]
  },
  {
   "cell_type": "code",
   "execution_count": 3,
   "id": "793d4d57",
   "metadata": {},
   "outputs": [],
   "source": [
    "\n",
    "from qonscious.checks import MeritComplianceCheck\n",
    "from qonscious.foms import PackedCHSHTest\n",
    "\n",
    "\n",
    "#This is a utility function to check that the score of the CHSH test\n",
    "# (in the properties a FigureOfMeritResult) is over a given threshold\n",
    "def chsh_score_over(threshold: float):\n",
    "    return lambda r: r[\"properties\"][\"score\"] > threshold\n",
    "\n",
    "# This is our main (only) figure of merit compliance check.\n",
    "# We pass this as an argument to the run_conditional function.\n",
    "# Feel free to play with the threshold value.\n",
    "# Simulators can get almost to the 2.82 bound; IBM's computers get in the range 2.5-2.7.\n",
    "check_chsh_is_ok = MeritComplianceCheck(\n",
    "    figure_of_merit=PackedCHSHTest(),\n",
    "    decision_function=chsh_score_over(2.4),\n",
    ")"
   ]
  },
  {
   "cell_type": "code",
   "execution_count": 4,
   "id": "0ee19de2",
   "metadata": {},
   "outputs": [
    {
     "name": "stdout",
     "output_type": "stream",
     "text": [
      "Running Phi+ conditional on a CHSH score check ...\n",
      "\n",
      "CHSH test passed!\n",
      "Score: 2.867\n",
      "Running our Phi+ circuit\n",
      "Phi+ circuit finished running\n"
     ]
    }
   ],
   "source": [
    "import os\n",
    "\n",
    "from qonscious import run_conditionally\n",
    "from qonscious.actions import QonsciousCallable\n",
    "from qonscious.adapters import AerSamplerAdapter, IBMSamplerAdapter\n",
    "\n",
    "# Uncomment this line to use the Aer simulator instead of a real\n",
    "backend = AerSamplerAdapter()\n",
    "\n",
    "# Uncomment these lines to use a real backend instead of the Aer simulator\n",
    "# ibm_token = os.getenv(\"IBM_QUANTUM_TOKEN\")\n",
    "# backend = IBMSamplerAdapter.least_busy_backend(ibm_token)\n",
    "\n",
    "print(\"Running Phi+ conditional on a CHSH score check ...\\n\")\n",
    "qunscious_result = run_conditionally(\n",
    "    backend_adapter=backend,\n",
    "    checks= [check_chsh_is_ok],\n",
    "    on_pass=QonsciousCallable(on_pass),\n",
    "    on_fail=QonsciousCallable(on_fail)\n",
    ")\n"
   ]
  },
  {
   "cell_type": "code",
   "execution_count": 5,
   "id": "79e3b840",
   "metadata": {},
   "outputs": [
    {
     "data": {
      "image/png": "[encoded data removed]",
      "text/plain": [
       "<Figure size 640x480 with 1 Axes>"
      ]
     },
     "metadata": {},
     "output_type": "display_data"
    }
   ],
   "source": [
    "# Plot the observed results (only run this cell if the CHSH test passed!)\n",
    "# F_Z is a simplified fidelity measure only considering the computational basis (it should be 1)\n",
    "\n",
    "import matplotlib.pyplot as plt\n",
    "\n",
    "# Get the counts of each possibly observed result 00, 01, 10, 11\n",
    "counts = qunscious_result['experiment_result']['counts'] # type: ignore\n",
    "\n",
    "# Choose a fixed label order for 2-qubit outcomes\n",
    "labels = ['00', '01', '10', '11']\n",
    "values = [counts.get(k, 0) for k in labels]\n",
    "\n",
    "N = sum(values)\n",
    "F_Z = (counts.get('00', 0) + counts.get('11', 0)) / N if N else float('nan')\n",
    "title = f\"Z-basis outcomes (F_Z = {F_Z:.3f})\"\n",
    "\n",
    "fig, ax = plt.subplots()\n",
    "bars = ax.bar(labels, values)\n",
    "ax.set_title(title)\n",
    "ax.set_xlabel(\"Outcome\")\n",
    "ax.set_ylabel(\"Counts\")\n",
    "ax.set_ylim(bottom=0)\n",
    "ax.grid(True, axis='y', linestyle=':', linewidth=0.5)\n",
    "\n",
    "# Add labels on top of each bar\n",
    "for bar, value in zip(bars, values):\n",
    "    ax.text(\n",
    "        bar.get_x() + bar.get_width() / 2,\n",
    "        bar.get_height(),\n",
    "        str(value),\n",
    "        ha='center', va='bottom'\n",
    "    )\n",
    "plt.show()"
   ]
  },
  {
   "cell_type": "code",
   "execution_count": null,
   "id": "1b910e77",
   "metadata": {},
   "outputs": [],
   "source": []
  }
 ],
 "metadata": {
  "kernelspec": {
   "display_name": ".venv",
   "language": "python",
   "name": "python3"
  },
  "language_info": {
   "codemirror_mode": {
    "name": "ipython",
    "version": 3
   },
   "file_extension": ".py",
   "mimetype": "text/x-python",
   "name": "python",
   "nbconvert_exporter": "python",
   "pygments_lexer": "ipython3",
   "version": "3.11.13"
  }
 },
 "nbformat": 4,
 "nbformat_minor": 5
}
